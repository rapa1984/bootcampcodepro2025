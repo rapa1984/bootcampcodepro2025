{
 "cells": [
  {
   "cell_type": "code",
   "execution_count": null,
   "id": "353b2ee2",
   "metadata": {},
   "outputs": [],
   "source": [
    "def imprimir_saludo():\n",
    "    print (\"hola mundo\")\n",
    "imprimir_saludo    "
   ]
  },
  {
   "cell_type": "markdown",
   "id": "7d074f58",
   "metadata": {},
   "source": []
  },
  {
   "cell_type": "markdown",
   "id": "69ce1b7b",
   "metadata": {},
   "source": []
  },
  {
   "cell_type": "code",
   "execution_count": null,
   "id": "6a247e04",
   "metadata": {},
   "outputs": [],
   "source": []
  },
  {
   "cell_type": "code",
   "execution_count": null,
   "id": "53cf0993",
   "metadata": {},
   "outputs": [
    {
     "name": "stdout",
     "output_type": "stream",
     "text": [
      "palabra_1\n"
     ]
    }
   ],
   "source": [
    "def palabra_1():\n",
    "    palabra = \"hola mundo\"\n",
    "    print (\"palabra_1\")\n",
    "palabra_1()  "
   ]
  },
  {
   "cell_type": "code",
   "execution_count": null,
   "id": "91e95c75",
   "metadata": {},
   "outputs": [],
   "source": [
    "def  comparar_letras  (letra1,letra2):\n",
    "  if  letra1 == letra2:\n",
    "    print (\"las letras son iguales\")\n",
    "  elif letra1 != letra2:     \n",
    "    print(\"las letras son diferentes\")\n",
    "letra1 = input (\"escribe una letra\")\n",
    "letra2 = input (\"escribe otra letra\")\n",
    "\n",
    "comparar_letras (letra1,letra2)\n",
    "        "
   ]
  },
  {
   "cell_type": "code",
   "execution_count": 2,
   "id": "1c2592af",
   "metadata": {},
   "outputs": [],
   "source": [
    "def sumatoria (numero1,numero2):\n",
    "    sumar = numero1 + numero2\n",
    "    return sumar "
   ]
  },
  {
   "cell_type": "code",
   "execution_count": null,
   "id": "817b24ac",
   "metadata": {},
   "outputs": [],
   "source": [
    "suma1 = sumatoria(1.2,2)\n",
    "total =suma1"
   ]
  },
  {
   "cell_type": "markdown",
   "id": "74216f24",
   "metadata": {},
   "source": []
  },
  {
   "cell_type": "code",
   "execution_count": 2,
   "id": "fcd53641",
   "metadata": {},
   "outputs": [
    {
     "name": "stdout",
     "output_type": "stream",
     "text": [
      "[['d', 'i', 'a']]\n",
      "[['d', 'i', 'a'], ['h', 'e', 'r', 'm', 'o', 's', 'o']]\n",
      "[['d', 'i', 'a'], ['h', 'e', 'r', 'm', 'o', 's', 'o'], ['c', 'a', 'l', 'u', 'r', 'o', 's', 'o']]\n"
     ]
    }
   ],
   "source": [
    "el_dia_esta_hermoso_y_caluroso = []\n",
    "for i in range (3):\n",
    "    palabra = input (\"ingresa una palabra\" ) \n",
    "    lista_de_letras = list (palabra)\n",
    "    el_dia_esta_hermoso_y_caluroso.append (lista_de_letras)\n",
    "    print(el_dia_esta_hermoso_y_caluroso)"
   ]
  },
  {
   "cell_type": "code",
   "execution_count": null,
   "id": "4d44cf5c",
   "metadata": {},
   "outputs": [],
   "source": []
  },
  {
   "cell_type": "code",
   "execution_count": null,
   "id": "00f5a1ed",
   "metadata": {},
   "outputs": [],
   "source": []
  },
  {
   "cell_type": "markdown",
   "id": "be14d78d",
   "metadata": {},
   "source": []
  },
  {
   "cell_type": "code",
   "execution_count": 22,
   "id": "12c1fbd3",
   "metadata": {},
   "outputs": [
    {
     "name": "stdout",
     "output_type": "stream",
     "text": [
      "['h', 'o', 'l', 'i', 's']\n",
      "['h', 'e', 'l', 'l', 'o']\n",
      "['h', 'a', 'l', 'l', 'o']\n"
     ]
    }
   ],
   "source": [
    "\n",
    "\n",
    "\n",
    "lista = [['h', 'o', 'l', 'i', 's'], ['h', 'e', 'l', 'l', 'o'], ['h', 'a', 'l', 'l', 'o']]\n",
    "\n",
    "#Crear una función que imprima una grilla (lista de listas), una línea por cada lista dentro de la lista principal.\n",
    "\n",
    "#Ejemplo del resultado esperado:\n",
    "\n",
    "def imprimir_grilla(lista):\n",
    "   for fila in lista:\n",
    "    print(fila)\n",
    "imprimir_grilla(lista)"
   ]
  },
  {
   "cell_type": "code",
   "execution_count": null,
   "id": "fd2d0608",
   "metadata": {},
   "outputs": [],
   "source": [
    "while intentos > 0:\n",
    "    print (f\" \")"
   ]
  },
  {
   "cell_type": "code",
   "execution_count": 6,
   "id": "220feb3a",
   "metadata": {},
   "outputs": [
    {
     "data": {
      "text/plain": [
       "False"
      ]
     },
     "execution_count": 6,
     "metadata": {},
     "output_type": "execute_result"
    }
   ],
   "source": [
    "def palabra_y_un_numero (palabra, numero):\n",
    "    if len (palabra)== numero:\n",
    "        return True\n",
    "    else:\n",
    "        return False\n",
    "\n",
    "palabra_y_un_numero (\"artur\",6)\n"
   ]
  }
 ],
 "metadata": {
  "kernelspec": {
   "display_name": "Python 3",
   "language": "python",
   "name": "python3"
  },
  "language_info": {
   "codemirror_mode": {
    "name": "ipython",
    "version": 3
   },
   "file_extension": ".py",
   "mimetype": "text/x-python",
   "name": "python",
   "nbconvert_exporter": "python",
   "pygments_lexer": "ipython3",
   "version": "3.13.3"
  }
 },
 "nbformat": 4,
 "nbformat_minor": 5
}
