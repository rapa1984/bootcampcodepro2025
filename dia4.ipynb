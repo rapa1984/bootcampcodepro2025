{
 "cells": [
  {
   "cell_type": "code",
   "execution_count": null,
   "id": "0305a10f",
   "metadata": {},
   "outputs": [],
   "source": [
    "\n",
    "\n",
    "\n",
    "\n",
    "## Challenge 1 🤺\n",
    "#Escribir un programa que cree un diccionario vacío y lo vaya llenado con información sobre una \n",
    "# persona (por ejemplo nombre, edad, sexo, teléfono, correo electrónico, etc.) que se le pida al usuario.\n",
    "# Cada vez que se añada un nuevo dato debe imprimirse el contenido del diccionario.\n",
    "dicionario_vacio = {}\n",
    "\n",
    "dicionario_vacio [\"nombre\"] = input (\"ingresa tu nombre\")\n",
    "\n",
    "print (dicionario_vacio)\n",
    "dicionario_vacio[\"apellido\"] = input (\"ingresa tu apellido\")\n",
    "\n",
    "print(dicionario_vacio)\n",
    "dicionario_vacio[\"direccion\"] = input (\"ingrese su direccion\")\n",
    "\n",
    "print (dicionario_vacio)\n",
    "dicionario_vacio [\"telefono\"] = input (\"ingrese su numero de telefono\")\n",
    "print(dicionario_vacio)"
   ]
  },
  {
   "cell_type": "markdown",
   "id": "5d0c3450",
   "metadata": {},
   "source": [
    "#challenge 2\n",
    "#crear una tarjeta personal.el usuario (mediante input )puede elegir:\n",
    "1 crear datos nuevos\n",
    "2.modificar\n",
    "3.eliminar datos\n"
   ]
  },
  {
   "cell_type": "code",
   "execution_count": null,
   "id": "7f4511fb",
   "metadata": {},
   "outputs": [
    {
     "name": "stdout",
     "output_type": "stream",
     "text": [
      "opcion invalida\n",
      "opcion invalida\n",
      "opcion invalida\n"
     ]
    }
   ],
   "source": [
    "tarjeta_personal = {}\n",
    "crear_datos = {}\n",
    "modificar_datos = {}\n",
    "eliminar_datos = {}\n",
    "while True:\n",
    "         \n",
    "         opcion = input(\"elige una opcion del 1,2,3\")\n",
    "\n",
    "         if opcion == \"1\":\n",
    "             crear_datos()\n",
    "         elif opcion == \"2\":\n",
    "               modificar_datos()\n",
    "         elif opcion  ==\"3\":\n",
    "             eliminar_datos()\n",
    "             print(\"saliendo del programa\")\n",
    "             break\n",
    "         \n",
    "         else:\n",
    "               print(\"opcion invalida\")\n",
    "               \n",
    "         \n",
    "         \n",
    "\n",
    "    \n"
   ]
  },
  {
   "cell_type": "markdown",
   "id": "b657d42d",
   "metadata": {},
   "source": []
  },
  {
   "cell_type": "markdown",
   "id": "fa0e04ad",
   "metadata": {},
   "source": []
  },
  {
   "cell_type": "markdown",
   "id": "e56ebc5e",
   "metadata": {},
   "source": []
  },
  {
   "cell_type": "markdown",
   "id": "9476b333",
   "metadata": {},
   "source": [
    "challenge 3\n",
    "crear una agenda de contactos.el usuariopuede elegir:\n",
    "1. mostrar los contactos\n",
    "2.crear contacto\n",
    "3.modificar datos del contacto"
   ]
  },
  {
   "cell_type": "code",
   "execution_count": null,
   "id": "2564718e",
   "metadata": {},
   "outputs": [],
   "source": [
    "def mostrar_contactos():"
   ]
  },
  {
   "cell_type": "code",
   "execution_count": null,
   "id": "39160bcc",
   "metadata": {},
   "outputs": [
    {
     "ename": "TypeError",
     "evalue": "Perro() takes no arguments",
     "output_type": "error",
     "traceback": [
      "\u001b[31m---------------------------------------------------------------------------\u001b[39m",
      "\u001b[31mTypeError\u001b[39m                                 Traceback (most recent call last)",
      "\u001b[36mCell\u001b[39m\u001b[36m \u001b[39m\u001b[32mIn[7]\u001b[39m\u001b[32m, line 17\u001b[39m\n\u001b[32m     15\u001b[39m \u001b[38;5;28;01mdef\u001b[39;00m\u001b[38;5;250m  \u001b[39m\u001b[34mmoverse\u001b[39m(\u001b[38;5;28mself\u001b[39m):\n\u001b[32m     16\u001b[39m      \u001b[38;5;28;01mreturn\u001b[39;00m\u001b[33m\"\u001b[39m\u001b[33mcuando me muevo,corro se mueve mi cola\u001b[39m\u001b[33m\"\u001b[39m\n\u001b[32m---> \u001b[39m\u001b[32m17\u001b[39m otto = \u001b[43mPerro\u001b[49m\u001b[43m(\u001b[49m\u001b[33;43m\"\u001b[39;49m\u001b[33;43mnegro\u001b[39;49m\u001b[33;43m\"\u001b[39;49m\u001b[43m,\u001b[49m\u001b[33;43m\"\u001b[39;49m\u001b[33;43mpinscher\u001b[39;49m\u001b[33;43m\"\u001b[39;49m\u001b[43m)\u001b[49m\n\u001b[32m     18\u001b[39m \u001b[38;5;28mprint\u001b[39m (otto.ladrar ())\n\u001b[32m     19\u001b[39m \u001b[38;5;28mprint\u001b[39m (otto.moverse ())\n",
      "\u001b[31mTypeError\u001b[39m: Perro() takes no arguments"
     ]
    }
   ],
   "source": [
    "#challenge\n",
    "#crear dos metodos para nuestro animaly ejecutar, debe ser algo especificode ese animal.\n",
    "#ejemplo \"cuando hablo,digo x\"\n",
    "#\"cuando me muevo,hago x\"\n",
    "class Perro:()\n",
    "ojos = 2\n",
    "cola = 1\n",
    "patas = 4\n",
    "del __init__(self,color,raza):\n",
    "    self.color = color\n",
    "    self.raza = raza\n",
    "def ladrar(self):\n",
    "     return\"cuando hablo digo, guau guau\"   \n",
    "def mover( self)\n",
    "     return\"cuando me muevo,corro se mueve mi cola\"\n",
    "otto = Perro(\"negro\",\"pinscher\")\n",
    "print (otto.ladrar ())\n",
    "print (otto.moverse ())"
   ]
  },
  {
   "cell_type": "markdown",
   "id": "93dcbe9c",
   "metadata": {},
   "source": [
    "Challenge 🤺\n",
    "Definir una clase madre que herede a sus clases hijas dos atributos de instancia. Mostrar ambos atributos en pantalla desde los objetos de las clases hijas.\n",
    "\n",
    "Observación: Editar las clases hijas para que no se inicialicen."
   ]
  },
  {
   "cell_type": "code",
   "execution_count": 15,
   "id": "fe4bfb8e",
   "metadata": {},
   "outputs": [
    {
     "ename": "RecursionError",
     "evalue": "maximum recursion depth exceeded",
     "output_type": "error",
     "traceback": [
      "\u001b[31m---------------------------------------------------------------------------\u001b[39m",
      "\u001b[31mRecursionError\u001b[39m                            Traceback (most recent call last)",
      "\u001b[36mCell\u001b[39m\u001b[36m \u001b[39m\u001b[32mIn[15]\u001b[39m\u001b[32m, line 18\u001b[39m\n\u001b[32m     15\u001b[39m         \u001b[38;5;28mprint\u001b[39m(\u001b[33mf\u001b[39m\u001b[33m\"\u001b[39m\u001b[33mColor:\u001b[39m\u001b[38;5;132;01m{\u001b[39;00m\u001b[38;5;28mself\u001b[39m.color\u001b[38;5;132;01m}\u001b[39;00m\u001b[33m\"\u001b[39m) \n\u001b[32m     16\u001b[39m         \u001b[38;5;28mprint\u001b[39m(\u001b[33mf\u001b[39m\u001b[33m\"\u001b[39m\u001b[33mRaza:\u001b[39m\u001b[38;5;132;01m{\u001b[39;00m\u001b[38;5;28mself\u001b[39m.raza\u001b[38;5;132;01m}\u001b[39;00m\u001b[33m\"\u001b[39m)  \n\u001b[32m---> \u001b[39m\u001b[32m18\u001b[39m Pepita =  \u001b[43mGato\u001b[49m\u001b[43m(\u001b[49m\u001b[33;43m\"\u001b[39;49m\u001b[33;43mmarron\u001b[39;49m\u001b[33;43m\"\u001b[39;49m\u001b[43m,\u001b[49m\u001b[43m \u001b[49m\u001b[33;43m\"\u001b[39;49m\u001b[33;43msiames\u001b[39;49m\u001b[33;43m\"\u001b[39;49m\u001b[43m)\u001b[49m \n\u001b[32m     19\u001b[39m Pepita.mostrar_info()      \n",
      "\u001b[36mCell\u001b[39m\u001b[36m \u001b[39m\u001b[32mIn[15]\u001b[39m\u001b[32m, line 13\u001b[39m, in \u001b[36mGato.__init__\u001b[39m\u001b[34m(self, color, raza)\u001b[39m\n\u001b[32m     11\u001b[39m \u001b[38;5;28mself\u001b[39m.color = color\n\u001b[32m     12\u001b[39m \u001b[38;5;28mself\u001b[39m.raza = raza\n\u001b[32m---> \u001b[39m\u001b[32m13\u001b[39m pepita = \u001b[43mGato\u001b[49m\u001b[43m(\u001b[49m\u001b[33;43m\"\u001b[39;49m\u001b[33;43mmarroncita\u001b[39;49m\u001b[33;43m\"\u001b[39;49m\u001b[43m,\u001b[49m\u001b[33;43m\"\u001b[39;49m\u001b[33;43msiames\u001b[39;49m\u001b[33;43m\"\u001b[39;49m\u001b[43m)\u001b[49m\n",
      "\u001b[36mCell\u001b[39m\u001b[36m \u001b[39m\u001b[32mIn[15]\u001b[39m\u001b[32m, line 13\u001b[39m, in \u001b[36mGato.__init__\u001b[39m\u001b[34m(self, color, raza)\u001b[39m\n\u001b[32m     11\u001b[39m \u001b[38;5;28mself\u001b[39m.color = color\n\u001b[32m     12\u001b[39m \u001b[38;5;28mself\u001b[39m.raza = raza\n\u001b[32m---> \u001b[39m\u001b[32m13\u001b[39m pepita = \u001b[43mGato\u001b[49m\u001b[43m(\u001b[49m\u001b[33;43m\"\u001b[39;49m\u001b[33;43mmarroncita\u001b[39;49m\u001b[33;43m\"\u001b[39;49m\u001b[43m,\u001b[49m\u001b[33;43m\"\u001b[39;49m\u001b[33;43msiames\u001b[39;49m\u001b[33;43m\"\u001b[39;49m\u001b[43m)\u001b[49m\n",
      "    \u001b[31m[... skipping similar frames: Gato.__init__ at line 13 (1497 times)]\u001b[39m\n",
      "\u001b[36mCell\u001b[39m\u001b[36m \u001b[39m\u001b[32mIn[15]\u001b[39m\u001b[32m, line 13\u001b[39m, in \u001b[36mGato.__init__\u001b[39m\u001b[34m(self, color, raza)\u001b[39m\n\u001b[32m     11\u001b[39m \u001b[38;5;28mself\u001b[39m.color = color\n\u001b[32m     12\u001b[39m \u001b[38;5;28mself\u001b[39m.raza = raza\n\u001b[32m---> \u001b[39m\u001b[32m13\u001b[39m pepita = \u001b[43mGato\u001b[49m\u001b[43m(\u001b[49m\u001b[33;43m\"\u001b[39;49m\u001b[33;43mmarroncita\u001b[39;49m\u001b[33;43m\"\u001b[39;49m\u001b[43m,\u001b[49m\u001b[33;43m\"\u001b[39;49m\u001b[33;43msiames\u001b[39;49m\u001b[33;43m\"\u001b[39;49m\u001b[43m)\u001b[49m\n",
      "\u001b[31mRecursionError\u001b[39m: maximum recursion depth exceeded"
     ]
    }
   ],
   "source": [
    "# clase madre\n",
    "class Gato:\n",
    "    ojos = 2\n",
    "    patas = 4\n",
    "    cola = 1\n",
    "    edad = 6\n",
    "    \n",
    "\n",
    "    def __init__(self,color, raza):\n",
    "      \n",
    "        self.color = color\n",
    "        self.raza = raza\n",
    "        pepita = Gato(\"marroncita\",\"siames\")\n",
    "    def mostrar_info(self):\n",
    "        print(f\"Color:{self.color}\") \n",
    "        print(f\"Raza:{self.raza}\")  \n",
    "\n",
    "Pepita =  Gato(\"marron\", \"siames\") \n",
    "Pepita.mostrar_info()      \n",
    "    \n",
    "        "
   ]
  }
 ],
 "metadata": {
  "kernelspec": {
   "display_name": "Python 3",
   "language": "python",
   "name": "python3"
  },
  "language_info": {
   "codemirror_mode": {
    "name": "ipython",
    "version": 3
   },
   "file_extension": ".py",
   "mimetype": "text/x-python",
   "name": "python",
   "nbconvert_exporter": "python",
   "pygments_lexer": "ipython3",
   "version": "3.13.3"
  }
 },
 "nbformat": 4,
 "nbformat_minor": 5
}
