{
 "cells": [
  {
   "cell_type": "code",
   "execution_count": null,
   "id": "ab674661",
   "metadata": {},
   "outputs": [
    {
     "data": {
      "text/plain": [
       "<function __main__.evaluar_estudiante(nombre, nota1, nota2, nota3)>"
      ]
     },
     "execution_count": 6,
     "metadata": {},
     "output_type": "execute_result"
    }
   ],
   "source": [
    "# 1crear una funcion llamada\n",
    "#evaluar_estudiante que recibe:\n",
    "#nombre (nombre del estudiante)\n",
    "#nota1,nota2,nota3 (las tres notas del estudiante) \n",
    "#la funcion de hacer :\n",
    "#1. Calcular el promedio delas tres notas.\n",
    "#2.devolver un mensaje como:\n",
    "#felicitaciones <nombre>,aprobaste con un promedio de <promedio>!\"si el promedio es mayor o igual >= a 6.\"\n",
    "#\"lo siento <nombre>,reprobaste con un promedio de <promedio>.\"si menor < a 6\n",
    "\n",
    "def evaluar_estudiante(nombre,nota1,nota2,nota3 ):\n",
    "    resultado = []\n",
    "    promedio = {nota1 + nota2 + nota3} /3\n",
    "    promedio_entero = int(promedio)\n",
    "    if promedio_entero >= 6:\n",
    "       return f\"felicitaciones {nombre},aprobaste con un promedio de {promedio_entero}!\"\n",
    "    else:\n",
    "        return f\"lo siento {nombre},reprobaste con un promedio de {promedio_entero}!\n",
    "\n",
    "                    \n",
    "\n",
    "\n",
    "    "
   ]
  },
  {
   "cell_type": "code",
   "execution_count": null,
   "id": "41ad94cb",
   "metadata": {},
   "outputs": [],
   "source": [
    "#Funciones con RETURN\n",
    "\n",
    "#1. Devolver el nombre más largo\n",
    "\n",
    "#descripción:\n",
    "#Crea una función nombre_mas_largo que reciba una lista de nombres y devuelva el nombre que tenga más letras.\n",
    "\n",
    "def nombre_mas_largo (lista_de_nombres):\n",
    "    nombres = (\"rodrigo\",\"lujan\",'elias',\"jazmin\",\"marcos\")\n",
    "    nombre_mayor =\" \"\n",
    "for nombre in lista_de_nombres:\n",
    "    if len nombre_mas_largo >\n",
    "    len (nombre_mayor):\n",
    "    nombre_mayor = nombre\n",
    "return nombre_mayor"
   ]
  }
 ],
 "metadata": {
  "kernelspec": {
   "display_name": "Python 3",
   "language": "python",
   "name": "python3"
  },
  "language_info": {
   "codemirror_mode": {
    "name": "ipython",
    "version": 3
   },
   "file_extension": ".py",
   "mimetype": "text/x-python",
   "name": "python",
   "nbconvert_exporter": "python",
   "pygments_lexer": "ipython3",
   "version": "3.13.3"
  }
 },
 "nbformat": 4,
 "nbformat_minor": 5
}
